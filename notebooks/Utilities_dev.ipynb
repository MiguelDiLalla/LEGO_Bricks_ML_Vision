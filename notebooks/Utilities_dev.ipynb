{
 "cells": [
  {
   "cell_type": "code",
   "execution_count": null,
   "metadata": {},
   "outputs": [],
   "source": [
    "import os\n",
    "os.chdir(\"..\")  # Ajusta según tu estructura\n"
   ]
  },
  {
   "cell_type": "markdown",
   "metadata": {},
   "source": [
    "# Generate_folders_ImageDataProject.py"
   ]
  },
  {
   "cell_type": "code",
   "execution_count": 1,
   "metadata": {},
   "outputs": [
    {
     "name": "stdout",
     "output_type": "stream",
     "text": [
      "Project structure created successfully at: c:\\Users\\User\\Projects_Unprotected\\LEGO_Bricks_ML_Vision\n"
     ]
    }
   ],
   "source": [
    "import os\n",
    "\n",
    "def create_project_structure():\n",
    "    \"\"\"\n",
    "    Create a folder structure for an image data project.\n",
    "\n",
    "    The base path is automatically set to the current working directory.\n",
    "    \"\"\"\n",
    "    # Set the base directory to the current working directory\n",
    "    base_path = os.getcwd()\n",
    "\n",
    "    # Define the folder structure\n",
    "    structure = {\n",
    "        \"data\": [\n",
    "            \"raw\",\n",
    "            \"processed\",\n",
    "            \"annotations\"\n",
    "        ],\n",
    "        \"src\": [\n",
    "            \"data_preprocessing\",\n",
    "            \"models\",\n",
    "            \"visualization\"\n",
    "        ],\n",
    "        \"models\": [\n",
    "            \"checkpoints\",\n",
    "            \"final\"\n",
    "        ],\n",
    "        \"results\": [\n",
    "            \"predictions\",\n",
    "            \"logs\"\n",
    "        ],\n",
    "        \"docs\": [],\n",
    "        \"notebooks\": [],\n",
    "        \"tests\": [],\n",
    "        \"presentation\": []\n",
    "    }\n",
    "\n",
    "    # Function to create folders recursively\n",
    "    def create_folders(base, folders):\n",
    "        for folder, subfolders in folders.items():\n",
    "            folder_path = os.path.join(base, folder)\n",
    "            os.makedirs(folder_path, exist_ok=True)\n",
    "            for subfolder in subfolders:\n",
    "                os.makedirs(os.path.join(folder_path, subfolder), exist_ok=True)\n",
    "\n",
    "    # Create the structure\n",
    "    create_folders(base_path, structure)\n",
    "\n",
    "    print(f\"Project structure created successfully at: {base_path}\")\n",
    "\n",
    "# Example usage\n",
    "if __name__ == \"__main__\":\n",
    "    create_project_structure()\n"
   ]
  },
  {
   "cell_type": "markdown",
   "metadata": {},
   "source": [
    "# Exportar Refurbished PDF"
   ]
  },
  {
   "cell_type": "code",
   "execution_count": 5,
   "metadata": {},
   "outputs": [
    {
     "name": "stderr",
     "output_type": "stream",
     "text": [
      "[NbConvertApp] Converting notebook Refurbishing_Project_doc_withCODE.ipynb to pdf\n",
      "[NbConvertApp] Writing 41212 bytes to notebook.tex\n",
      "[NbConvertApp] Building PDF\n",
      "[NbConvertApp] Running xelatex 3 times: ['xelatex', 'notebook.tex', '-quiet']\n",
      "[NbConvertApp] Running bibtex 1 time: ['bibtex', 'notebook']\n",
      "[NbConvertApp] WARNING | b had problems, most likely because there were no citations\n",
      "[NbConvertApp] PDF successfully created\n",
      "[NbConvertApp] Writing 64629 bytes to Refurbishing_Project_doc_withCODE.pdf\n"
     ]
    }
   ],
   "source": [
    "!jupyter nbconvert --to pdf Refurbishing_Project_doc_withCODE.ipynb"
   ]
  },
  {
   "cell_type": "markdown",
   "metadata": {},
   "source": [
    "# Refurbishing Pipeline\n",
    "\n",
    "(chatGPT is having bugs remembering converstions)"
   ]
  },
  {
   "cell_type": "markdown",
   "metadata": {},
   "source": [
    "# \"\n",
    "\n",
    "¡Perfecto! Vamos a estructurar esta entrevista para guiarte a reflexionar sobre cada etapa del proyecto y asegurarnos de que tu storytelling esté alineado con las mejores prácticas. Este enfoque también nos permitirá planear cómo documentar, reproducir y organizar el proyecto de manera profesional.\n",
    "\n",
    "Entrevista Inicial\n",
    "Te haré preguntas relevantes por etapas del proyecto. Responde según tu experiencia, y construiré secciones del documento con base en tus respuestas. También sugeriré scripts o ajustes según lo que compartas.\n",
    "\n",
    "1. Origen del Proyecto\n",
    "¿Qué te motivó a iniciar este proyecto? ¿Fue un desafío técnico que querías resolver, una curiosidad personal, o algo más?\n",
    "¿Cómo conectaste tus habilidades previas con esta idea? Por ejemplo, ¿qué experiencias te influyeron a elegir visión por computadora y no otro campo?\n",
    "2. Creación del Dataset\n",
    "¿Qué tipo de datos recopilaste y cómo? Comparte detalles sobre el proceso, como herramientas utilizadas, número de imágenes, y estrategias para capturar diferentes ángulos y condiciones.\n",
    "¿Cómo manejaste la anotación de los datos? ¿Usaste alguna herramienta específica como LabelMe o desarrollaste algo propio? ¿Hubo desafíos en esta etapa?\n",
    "¿Qué criterios usaste para limpiar y preparar los datos? Por ejemplo, ¿eliminaste imágenes borrosas o hiciste algún balanceo entre clases?\n",
    "3. Selección del Modelo\n",
    "¿Por qué elegiste YOLO? ¿Probaste otros modelos antes? Si es así, ¿cuáles y por qué los descartaste?\n",
    "¿Cómo ajustaste los hiperparámetros durante el entrenamiento? Por ejemplo, tamaño de lotes, número de épocas, etc.\n",
    "¿Qué limitaciones encontraste en el modelo, y cómo las abordaste?\n",
    "4. Implementación y Resultados\n",
    "¿Cómo transformaste los resultados del modelo en algo práctico? Por ejemplo, ¿cómo calculaste las dimensiones de las piezas basándote en la detección de studs?\n",
    "¿Qué métricas utilizaste para medir el éxito? ¿Precision, recall, F1-score, u otras? ¿Cómo documentaste estos resultados?\n",
    "¿Qué visualizaciones creaste para entender mejor los resultados?\n",
    "5. Reflexión y Futuro\n",
    "¿Qué aprendiste en términos técnicos y personales? ¿Qué habilidades desarrollaste o reforzaste?\n",
    "Si comenzaras de nuevo, ¿qué harías diferente?\n",
    "¿Qué pasos futuros te gustaría explorar? Por ejemplo, ¿mejorar el modelo, ampliar el dataset, o implementar nuevas funcionalidades?\n",
    "Próximos Pasos\n",
    "Conforme respondas, construiré borradores de las secciones correspondientes del documento. Si surgen necesidades específicas (como scripts para repetir entrenamientos), las desarrollaremos y definiremos cómo integrarlas al proyecto.\n",
    "\n",
    "Comencemos con tus respuestas a las primeras preguntas de la sección 1 sobre la motivación y el origen del proyecto. 😊\n",
    "\n",
    "# \""
   ]
  },
  {
   "cell_type": "markdown",
   "metadata": {},
   "source": [
    "# Implementacion de pipeline central\n",
    "\n",
    "## pipeline.py"
   ]
  },
  {
   "cell_type": "code",
   "execution_count": null,
   "metadata": {},
   "outputs": [],
   "source": [
    "# # -*- coding: utf-8 -*-\n",
    "\n",
    "# import os\n",
    "\n",
    "# def generate_structure_file(output_file=\"estructura.txt\"):\n",
    "#     \"\"\"\n",
    "#     Genera un archivo con la estructura de directorios solo si el directorio actual\n",
    "#     contiene una carpeta 'src' o está relacionado con ella.\n",
    "\n",
    "#     Args:\n",
    "#         output_file (str): Nombre del archivo para guardar la estructura.\n",
    "#     \"\"\"\n",
    "#     # Directorio actual\n",
    "#     current_dir = os.getcwd()\n",
    "\n",
    "#     # Verificar si existe la carpeta 'src' en el directorio actual\n",
    "#     if \"src\" in os.listdir(current_dir):\n",
    "#         # Crear la estructura en el directorio actual\n",
    "#         target_dir = current_dir\n",
    "#         print(f\"Directorio 'src' encontrado en el directorio actual: {target_dir}\")\n",
    "#     else:\n",
    "#         # Subir al directorio padre y verificar si 'src' es una carpeta hermana\n",
    "#         parent_dir = os.path.abspath(os.path.join(current_dir, os.pardir))\n",
    "#         if \"src\" in os.listdir(parent_dir):\n",
    "#             # Crear la estructura en el directorio padre\n",
    "#             target_dir = parent_dir\n",
    "#             print(f\"Directorio 'src' encontrado como carpeta hermana. Generando estructura en: {target_dir}\")\n",
    "#         else:\n",
    "#             print(\"No se encontró la carpeta 'src'. No se generará el archivo de estructura.\")\n",
    "#             return\n",
    "\n",
    "#     # Generar la estructura\n",
    "#     with open(output_file, \"w\") as f:\n",
    "#         for root, dirs, files in os.walk(target_dir):\n",
    "#             level = root.replace(target_dir, \"\").count(os.sep)\n",
    "#             indent = \" \" * 4 * level\n",
    "#             f.write(f\"{indent}{os.path.basename(root)}/\\n\")\n",
    "#             subindent = \" \" * 4 * (level + 1)\n",
    "#             for file in files:\n",
    "#                 f.write(f\"{subindent}{file}\\n\")\n",
    "\n",
    "#     print(f\"Estructura generada exitosamente en: {output_file}\")\n",
    "\n",
    "# # Ejecutar la función\n",
    "# if __name__ == \"__main__\":\n",
    "#     generate_structure_file()\n"
   ]
  },
  {
   "cell_type": "code",
   "execution_count": null,
   "metadata": {},
   "outputs": [
    {
     "name": "stdout",
     "output_type": "stream",
     "text": [
      "c:\\Users\\User\\Projects_Unprotected\\LEGO_Bricks_ML_Vision\\notebooks\n",
      "c:\\Users\\User\\Projects_Unprotected\\LEGO_Bricks_ML_Vision\n"
     ]
    }
   ],
   "source": [
    "import sys\n",
    "import os\n",
    "print(os.getcwd())  # Esto muestra la ruta actual\n",
    "\n",
    "os.chdir(\"..\")  # Cambia al directorio raíz\n",
    "\n",
    "print(os.getcwd())  # Esto muestra la ruta actual\n",
    "\n",
    "# Ahora realiza la importación\n",
    "from scripts.pipeline import setup_environment, preprocess_images, train_yolo_pipeline\n"
   ]
  }
 ],
 "metadata": {
  "kernelspec": {
   "display_name": "MiguelEnvHaB",
   "language": "python",
   "name": "python3"
  },
  "language_info": {
   "codemirror_mode": {
    "name": "ipython",
    "version": 3
   },
   "file_extension": ".py",
   "mimetype": "text/x-python",
   "name": "python",
   "nbconvert_exporter": "python",
   "pygments_lexer": "ipython3",
   "version": "3.12.7"
  }
 },
 "nbformat": 4,
 "nbformat_minor": 2
}
