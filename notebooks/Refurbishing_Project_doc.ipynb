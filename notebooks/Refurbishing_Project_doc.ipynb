{
 "cells": [
  {
   "cell_type": "markdown",
   "metadata": {},
   "source": [
    "# LEGO Bricks Identification Project: A Journey of Learning and Adaptation\n",
    "\n",
    "## **Introduction**\n",
    "This notebook narrates the development of a project that started as a personal challenge and became a demonstration of creative problem-solving and a deep dive into computer vision. The project explores how computer vision techniques can be used to identify and analyze LEGO bricks. \n",
    "\n",
    "### **Motivation**\n",
    "As a lifelong learner and a problem-solver, I found this project to be a perfect opportunity to apply my curiosity and drive to a practical challenge. It also reflects a significant moment in my life: transitioning from my work in the hospitality industry to pursuing a career in technology, where my skills and passions can have a greater impact.\n",
    "\n",
    "## **Problem Statement**\n",
    "LEGO bricks come in many shapes and sizes, often with subtle differences. The challenge was to create a system capable of identifying individual bricks and determining their dimensions using computer vision techniques. While the initial scope was limited to 26 distinct brick types, the problem presented several complexities:\n",
    "\n",
    "- Variability in brick dimensions and shapes.\n",
    "- The need for accurate annotations to train detection models.\n",
    "- Limited data availability, requiring adaptive solutions.\n",
    "\n",
    "## **Methodology**\n",
    "\n",
    "### **1. Initial Approach: Direct Brick Classification**\n",
    "The project began with the idea of classifying LEGO bricks directly using object detection models like YOLO. However, early experimentation revealed significant challenges:\n",
    "\n",
    "- **Dataset limitations**: The dataset was small, unbalanced, and contained subtle differences between classes.\n",
    "- **Model performance**: Direct classification yielded low accuracy due to the aforementioned challenges.\n",
    "\n",
    "### **2. Adaptation: Focusing on Stud Detection**\n",
    "To overcome these hurdles, the approach shifted towards detecting studs (the small bumps on LEGO bricks) and using their positions to infer brick dimensions. This adjustment allowed for:\n",
    "\n",
    "- Simplified classification logic.\n",
    "- Better utilization of the dataset by focusing on a common feature across all bricks.\n",
    "\n",
    "The process involved:\n",
    "- Annotating images with stud positions using LabelMe.\n",
    "- Training a YOLOv8 model to detect studs.\n",
    "- Developing algorithms to compute brick dimensions from the detected stud positions.\n",
    "\n",
    "### **3. Experimentation and Iteration**\n",
    "The development process was highly iterative, involving:\n",
    "- Multiple rounds of dataset refinement and augmentation.\n",
    "- Experimenting with model hyperparameters to improve detection accuracy.\n",
    "- Validating the dimension-calculation algorithms with test images.\n",
    "\n",
    "## **Results**\n",
    "The project achieved:\n",
    "- **Accurate stud detection**: The trained YOLO model demonstrated high precision and recall in detecting studs.\n",
    "- **Dimension calculation**: Algorithms successfully inferred the dimensions of various bricks using detected stud positions.\n",
    "\n",
    "### **Visualizations**\n",
    "- Examples of stud detection with bounding boxes.\n",
    "- Graphs showing model performance metrics (precision, recall, F1 score).\n",
    "\n",
    "## **Reflection and Learnings**\n",
    "This project exemplified the power of curiosity and adaptability in tackling challenges. Key takeaways include:\n",
    "\n",
    "1. The importance of flexibility: Pivoting to a simpler approach yielded better results and deeper insights.\n",
    "2. Learning through experimentation: Iterative testing refined the solution and improved my understanding of the problem.\n",
    "3. A new direction: The project reaffirmed my passion for learning and solving complex problems, motivating me to transition into a technology-focused career.\n",
    "\n",
    "## **Future Directions**\n",
    "This project is a starting point. Potential next steps include:\n",
    "- Expanding the dataset to include more brick types.\n",
    "- Refining the detection and dimension-calculation algorithms for production-level accuracy.\n",
    "- Scaling the solution for real-world applications, such as automated sorting or inventory management.\n",
    "\n",
    "---\n"
   ]
  },
  {
   "cell_type": "markdown",
   "metadata": {},
   "source": [
    "\n",
    "## **Code and Implementation**\n",
    "### **1. Data Preparation**\n"
   ]
  },
  {
   "cell_type": "code",
   "execution_count": null,
   "metadata": {
    "vscode": {
     "languageId": "plaintext"
    }
   },
   "outputs": [],
   "source": [
    "```python\n",
    "# Example code for data preprocessing\n",
    "import os\n",
    "import cv2\n",
    "\n",
    "# Load and preprocess images\n",
    "image_dir = 'data/raw'\n",
    "processed_dir = 'data/processed'\n",
    "os.makedirs(processed_dir, exist_ok=True)\n",
    "\n",
    "for image_file in os.listdir(image_dir):\n",
    "    image_path = os.path.join(image_dir, image_file)\n",
    "    image = cv2.imread(image_path)\n",
    "    # Resize, normalize, and save\n",
    "    processed_image = cv2.resize(image, (640, 640))\n",
    "    cv2.imwrite(os.path.join(processed_dir, image_file), processed_image)\n",
    "```\n"
   ]
  },
  {
   "cell_type": "markdown",
   "metadata": {},
   "source": [
    "\n",
    "### **2. Model Training**\n"
   ]
  },
  {
   "cell_type": "markdown",
   "metadata": {},
   "source": [
    "```python\n",
    "# Example code for training the YOLO model\n",
    "from ultralytics import YOLO\n",
    "\n",
    "# Load the YOLO model\n",
    "model = YOLO('yolov8n.pt')\n",
    "\n",
    "# Train the model\n",
    "model.train(data='data.yaml', epochs=50, imgsz=640)\n",
    "```\n"
   ]
  },
  {
   "cell_type": "markdown",
   "metadata": {},
   "source": [
    "\n",
    "### **3. Dimension Calculation**\n"
   ]
  },
  {
   "cell_type": "markdown",
   "metadata": {},
   "source": [
    "```python\n",
    "# Algorithm to calculate brick dimensions from stud positions\n",
    "def calculate_dimensions(stud_positions):\n",
    "    rows = len(set([pos[1] for pos in stud_positions]))  # Unique Y-coordinates\n",
    "    cols = len(set([pos[0] for pos in stud_positions]))  # Unique X-coordinates\n",
    "    return rows, cols\n",
    "\n",
    "# Example usage\n",
    "stud_positions = [(10, 20), (10, 40), (30, 20), (30, 40)]\n",
    "dimensions = calculate_dimensions(stud_positions)\n",
    "print(f\"Brick dimensions: {dimensions[0]} rows x {dimensions[1]} columns\")\n",
    "```\n"
   ]
  },
  {
   "cell_type": "markdown",
   "metadata": {},
   "source": [
    "\n",
    "---\n",
    "\n",
    "## **Closing Remarks**\n",
    "This notebook not only showcases a technical solution but also tells the story of how a love for learning and persistence can turn a simple idea into a meaningful project. By sharing this journey, I aim to inspire others and demonstrate my readiness for new challenges in the field of technology.\n"
   ]
  }
 ],
 "metadata": {
  "language_info": {
   "name": "python"
  }
 },
 "nbformat": 4,
 "nbformat_minor": 2
}
